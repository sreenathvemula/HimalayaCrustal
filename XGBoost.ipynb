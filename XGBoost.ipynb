{
  "nbformat": 4,
  "nbformat_minor": 0,
  "metadata": {
    "colab": {
      "provenance": []
    },
    "kernelspec": {
      "name": "python3",
      "display_name": "Python 3"
    },
    "language_info": {
      "name": "python"
    }
  },
  "cells": [
    {
      "cell_type": "code",
      "source": [
        "!pip install bayesian-optimization"
      ],
      "metadata": {
        "id": "5kxAkNw7iWwy"
      },
      "execution_count": null,
      "outputs": []
    },
    {
      "cell_type": "code",
      "source": [
        "import numpy as np\n",
        "import matplotlib.pyplot as plt\n",
        "import pandas as pd\n",
        "import tensorflow as tf\n",
        "import pickle\n",
        "import io\n",
        "import xgboost as xgb\n",
        "from sklearn.model_selection import train_test_split\n",
        "import csv\n",
        "from sklearn.ensemble import GradientBoostingRegressor\n",
        "from sklearn.model_selection import KFold\n",
        "from bayes_opt import BayesianOptimization\n",
        "import sklearn.metrics as metrics\n",
        "from google.colab import files\n",
        "from random import randint"
      ],
      "metadata": {
        "id": "w1iljdfMo4SD"
      },
      "execution_count": null,
      "outputs": []
    },
    {
      "cell_type": "code",
      "source": [
        "def compute_score(model, input):\n",
        "    y_true = tf.convert_to_tensor(Target)\n",
        "    y_score = model.predict(input)*tf.transpose(Target.std()) + Target.mean()\n",
        "\n",
        "    r2 = round(metrics.r2_score(y_true, y_score), 4)\n",
        "    mse = round(metrics.mean_squared_error(y_true, y_score),4)\n",
        "    mae = round(metrics.mean_absolute_error(y_true, y_score),4)\n",
        "    mape = round(metrics.mean_absolute_percentage_error(y_true, y_score), 4)\n",
        "\n",
        "    print('r2: ', r2, ', mse: ', mse, ', mae: ', mae, ', mape: ', mape)\n",
        "\n",
        "    return r2, mse, mae, mape"
      ],
      "metadata": {
        "id": "2jMlVRMLbcou"
      },
      "execution_count": null,
      "outputs": []
    },
    {
      "cell_type": "markdown",
      "source": [
        "### XGB Transfer Learning + Monotonic from Global Model"
      ],
      "metadata": {
        "id": "FnQuZM5hbdJd"
      }
    },
    {
      "cell_type": "code",
      "source": [
        "from google.colab import files\n",
        "uploaded = files.upload()"
      ],
      "metadata": {
        "id": "3LLZEDtwpEaK",
        "colab": {
          "base_uri": "https://localhost:8080/",
          "height": 73
        },
        "outputId": "ee5d1291-bf0f-4cb9-be94-0cb1ae37588f"
      },
      "execution_count": null,
      "outputs": [
        {
          "output_type": "display_data",
          "data": {
            "text/plain": [
              "<IPython.core.display.HTML object>"
            ],
            "text/html": [
              "\n",
              "     <input type=\"file\" id=\"files-3f7f8b18-4533-4fc7-b0c6-3f13151dff25\" name=\"files[]\" multiple disabled\n",
              "        style=\"border:none\" />\n",
              "     <output id=\"result-3f7f8b18-4533-4fc7-b0c6-3f13151dff25\">\n",
              "      Upload widget is only available when the cell has been executed in the\n",
              "      current browser session. Please rerun this cell to enable.\n",
              "      </output>\n",
              "      <script>// Copyright 2017 Google LLC\n",
              "//\n",
              "// Licensed under the Apache License, Version 2.0 (the \"License\");\n",
              "// you may not use this file except in compliance with the License.\n",
              "// You may obtain a copy of the License at\n",
              "//\n",
              "//      http://www.apache.org/licenses/LICENSE-2.0\n",
              "//\n",
              "// Unless required by applicable law or agreed to in writing, software\n",
              "// distributed under the License is distributed on an \"AS IS\" BASIS,\n",
              "// WITHOUT WARRANTIES OR CONDITIONS OF ANY KIND, either express or implied.\n",
              "// See the License for the specific language governing permissions and\n",
              "// limitations under the License.\n",
              "\n",
              "/**\n",
              " * @fileoverview Helpers for google.colab Python module.\n",
              " */\n",
              "(function(scope) {\n",
              "function span(text, styleAttributes = {}) {\n",
              "  const element = document.createElement('span');\n",
              "  element.textContent = text;\n",
              "  for (const key of Object.keys(styleAttributes)) {\n",
              "    element.style[key] = styleAttributes[key];\n",
              "  }\n",
              "  return element;\n",
              "}\n",
              "\n",
              "// Max number of bytes which will be uploaded at a time.\n",
              "const MAX_PAYLOAD_SIZE = 100 * 1024;\n",
              "\n",
              "function _uploadFiles(inputId, outputId) {\n",
              "  const steps = uploadFilesStep(inputId, outputId);\n",
              "  const outputElement = document.getElementById(outputId);\n",
              "  // Cache steps on the outputElement to make it available for the next call\n",
              "  // to uploadFilesContinue from Python.\n",
              "  outputElement.steps = steps;\n",
              "\n",
              "  return _uploadFilesContinue(outputId);\n",
              "}\n",
              "\n",
              "// This is roughly an async generator (not supported in the browser yet),\n",
              "// where there are multiple asynchronous steps and the Python side is going\n",
              "// to poll for completion of each step.\n",
              "// This uses a Promise to block the python side on completion of each step,\n",
              "// then passes the result of the previous step as the input to the next step.\n",
              "function _uploadFilesContinue(outputId) {\n",
              "  const outputElement = document.getElementById(outputId);\n",
              "  const steps = outputElement.steps;\n",
              "\n",
              "  const next = steps.next(outputElement.lastPromiseValue);\n",
              "  return Promise.resolve(next.value.promise).then((value) => {\n",
              "    // Cache the last promise value to make it available to the next\n",
              "    // step of the generator.\n",
              "    outputElement.lastPromiseValue = value;\n",
              "    return next.value.response;\n",
              "  });\n",
              "}\n",
              "\n",
              "/**\n",
              " * Generator function which is called between each async step of the upload\n",
              " * process.\n",
              " * @param {string} inputId Element ID of the input file picker element.\n",
              " * @param {string} outputId Element ID of the output display.\n",
              " * @return {!Iterable<!Object>} Iterable of next steps.\n",
              " */\n",
              "function* uploadFilesStep(inputId, outputId) {\n",
              "  const inputElement = document.getElementById(inputId);\n",
              "  inputElement.disabled = false;\n",
              "\n",
              "  const outputElement = document.getElementById(outputId);\n",
              "  outputElement.innerHTML = '';\n",
              "\n",
              "  const pickedPromise = new Promise((resolve) => {\n",
              "    inputElement.addEventListener('change', (e) => {\n",
              "      resolve(e.target.files);\n",
              "    });\n",
              "  });\n",
              "\n",
              "  const cancel = document.createElement('button');\n",
              "  inputElement.parentElement.appendChild(cancel);\n",
              "  cancel.textContent = 'Cancel upload';\n",
              "  const cancelPromise = new Promise((resolve) => {\n",
              "    cancel.onclick = () => {\n",
              "      resolve(null);\n",
              "    };\n",
              "  });\n",
              "\n",
              "  // Wait for the user to pick the files.\n",
              "  const files = yield {\n",
              "    promise: Promise.race([pickedPromise, cancelPromise]),\n",
              "    response: {\n",
              "      action: 'starting',\n",
              "    }\n",
              "  };\n",
              "\n",
              "  cancel.remove();\n",
              "\n",
              "  // Disable the input element since further picks are not allowed.\n",
              "  inputElement.disabled = true;\n",
              "\n",
              "  if (!files) {\n",
              "    return {\n",
              "      response: {\n",
              "        action: 'complete',\n",
              "      }\n",
              "    };\n",
              "  }\n",
              "\n",
              "  for (const file of files) {\n",
              "    const li = document.createElement('li');\n",
              "    li.append(span(file.name, {fontWeight: 'bold'}));\n",
              "    li.append(span(\n",
              "        `(${file.type || 'n/a'}) - ${file.size} bytes, ` +\n",
              "        `last modified: ${\n",
              "            file.lastModifiedDate ? file.lastModifiedDate.toLocaleDateString() :\n",
              "                                    'n/a'} - `));\n",
              "    const percent = span('0% done');\n",
              "    li.appendChild(percent);\n",
              "\n",
              "    outputElement.appendChild(li);\n",
              "\n",
              "    const fileDataPromise = new Promise((resolve) => {\n",
              "      const reader = new FileReader();\n",
              "      reader.onload = (e) => {\n",
              "        resolve(e.target.result);\n",
              "      };\n",
              "      reader.readAsArrayBuffer(file);\n",
              "    });\n",
              "    // Wait for the data to be ready.\n",
              "    let fileData = yield {\n",
              "      promise: fileDataPromise,\n",
              "      response: {\n",
              "        action: 'continue',\n",
              "      }\n",
              "    };\n",
              "\n",
              "    // Use a chunked sending to avoid message size limits. See b/62115660.\n",
              "    let position = 0;\n",
              "    do {\n",
              "      const length = Math.min(fileData.byteLength - position, MAX_PAYLOAD_SIZE);\n",
              "      const chunk = new Uint8Array(fileData, position, length);\n",
              "      position += length;\n",
              "\n",
              "      const base64 = btoa(String.fromCharCode.apply(null, chunk));\n",
              "      yield {\n",
              "        response: {\n",
              "          action: 'append',\n",
              "          file: file.name,\n",
              "          data: base64,\n",
              "        },\n",
              "      };\n",
              "\n",
              "      let percentDone = fileData.byteLength === 0 ?\n",
              "          100 :\n",
              "          Math.round((position / fileData.byteLength) * 100);\n",
              "      percent.textContent = `${percentDone}% done`;\n",
              "\n",
              "    } while (position < fileData.byteLength);\n",
              "  }\n",
              "\n",
              "  // All done.\n",
              "  yield {\n",
              "    response: {\n",
              "      action: 'complete',\n",
              "    }\n",
              "  };\n",
              "}\n",
              "\n",
              "scope.google = scope.google || {};\n",
              "scope.google.colab = scope.google.colab || {};\n",
              "scope.google.colab._files = {\n",
              "  _uploadFiles,\n",
              "  _uploadFilesContinue,\n",
              "};\n",
              "})(self);\n",
              "</script> "
            ]
          },
          "metadata": {}
        },
        {
          "output_type": "stream",
          "name": "stdout",
          "text": [
            "Saving Indian Data.csv to Indian Data.csv\n"
          ]
        }
      ]
    },
    {
      "cell_type": "code",
      "source": [
        "df = pd.read_csv(io.StringIO(uploaded['Indian Data.csv'].decode('utf-8')),header=0)\n",
        "Inputs = df.iloc[:,0:6]\n",
        "Target = df.iloc[:,6:35]\n",
        "Input_norm = (Inputs - Inputs.mean())/Inputs.std()\n",
        "Target_norm = (Target - Target.mean())/Target.std()\n",
        "\n",
        "from sklearn.model_selection import train_test_split\n",
        "train_x, test_x, train_y, test_y = train_test_split(Input_norm, Target_norm, test_size=0.15)\n",
        "\n",
        "data = xgb.DMatrix(Input_norm, Target_norm, feature_names=Input_norm.columns)"
      ],
      "metadata": {
        "id": "5m6uIjVEpF5y"
      },
      "execution_count": null,
      "outputs": []
    },
    {
      "cell_type": "code",
      "execution_count": null,
      "metadata": {
        "id": "TI-OZ25mnqub",
        "colab": {
          "base_uri": "https://localhost:8080/"
        },
        "outputId": "c0879a56-4088-4bbe-cd8c-ae62715fbe5d"
      },
      "outputs": [
        {
          "output_type": "stream",
          "name": "stdout",
          "text": [
            "|   iter    |  target   | colsam... |   gamma   | learni... | max_depth | min_ch... | subsample |\n",
            "-------------------------------------------------------------------------------------------------\n",
            "| \u001b[0m1        \u001b[0m | \u001b[0m-0.7197  \u001b[0m | \u001b[0m0.7085   \u001b[0m | \u001b[0m0.7203   \u001b[0m | \u001b[0m0.01003  \u001b[0m | \u001b[0m3.209    \u001b[0m | \u001b[0m1.587    \u001b[0m | \u001b[0m0.5462   \u001b[0m |\n",
            "| \u001b[95m2        \u001b[0m | \u001b[95m-0.4989  \u001b[0m | \u001b[95m0.5931   \u001b[0m | \u001b[95m0.3456   \u001b[0m | \u001b[95m0.1251   \u001b[0m | \u001b[95m4.155    \u001b[0m | \u001b[95m2.677    \u001b[0m | \u001b[95m0.8426   \u001b[0m |\n",
            "| \u001b[0m3        \u001b[0m | \u001b[0m-0.6333  \u001b[0m | \u001b[0m0.6022   \u001b[0m | \u001b[0m0.8781   \u001b[0m | \u001b[0m0.01794  \u001b[0m | \u001b[0m4.682    \u001b[0m | \u001b[0m2.669    \u001b[0m | \u001b[0m0.7793   \u001b[0m |\n",
            "| \u001b[0m4        \u001b[0m | \u001b[0m-0.5002  \u001b[0m | \u001b[0m0.5702   \u001b[0m | \u001b[0m0.1981   \u001b[0m | \u001b[0m0.2422   \u001b[0m | \u001b[0m5.873    \u001b[0m | \u001b[0m2.254    \u001b[0m | \u001b[0m0.8462   \u001b[0m |\n",
            "| \u001b[0m5        \u001b[0m | \u001b[0m-0.5595  \u001b[0m | \u001b[0m0.9382   \u001b[0m | \u001b[0m0.8946   \u001b[0m | \u001b[0m0.03466  \u001b[0m | \u001b[0m2.156    \u001b[0m | \u001b[0m1.679    \u001b[0m | \u001b[0m0.9391   \u001b[0m |\n",
            "| \u001b[95m6        \u001b[0m | \u001b[95m-0.492   \u001b[0m | \u001b[95m0.7807   \u001b[0m | \u001b[95m0.3754   \u001b[0m | \u001b[95m0.1489   \u001b[0m | \u001b[95m4.245    \u001b[0m | \u001b[95m1.551    \u001b[0m | \u001b[95m0.8223   \u001b[0m |\n",
            "| \u001b[0m7        \u001b[0m | \u001b[0m-0.5004  \u001b[0m | \u001b[0m0.7989   \u001b[0m | \u001b[0m0.3184   \u001b[0m | \u001b[0m0.2023   \u001b[0m | \u001b[0m3.794    \u001b[0m | \u001b[0m1.689    \u001b[0m | \u001b[0m0.6515   \u001b[0m |\n",
            "| \u001b[0m8        \u001b[0m | \u001b[0m-0.5007  \u001b[0m | \u001b[0m0.5678   \u001b[0m | \u001b[0m0.2023   \u001b[0m | \u001b[0m0.2487   \u001b[0m | \u001b[0m5.826    \u001b[0m | \u001b[0m2.271    \u001b[0m | \u001b[0m0.8365   \u001b[0m |\n",
            "| \u001b[0m9        \u001b[0m | \u001b[0m-0.4938  \u001b[0m | \u001b[0m0.7048   \u001b[0m | \u001b[0m0.1223   \u001b[0m | \u001b[0m0.2217   \u001b[0m | \u001b[0m5.472    \u001b[0m | \u001b[0m3.652    \u001b[0m | \u001b[0m0.6975   \u001b[0m |\n",
            "| \u001b[0m10       \u001b[0m | \u001b[0m-0.497   \u001b[0m | \u001b[0m0.7539   \u001b[0m | \u001b[0m0.0      \u001b[0m | \u001b[0m0.2863   \u001b[0m | \u001b[0m4.112    \u001b[0m | \u001b[0m2.084    \u001b[0m | \u001b[0m0.8231   \u001b[0m |\n",
            "=================================================================================================\n",
            "r2:  0.7971 , mse:  0.5781 , mae:  0.5887 , mape:  0.1311\n"
          ]
        }
      ],
      "source": [
        "seed = 1\n",
        "monotonic_constraints = (1,-1,-1,1,1,0)\n",
        "def xgb_cv(max_depth, learning_rate, gamma, min_child_weight, subsample, colsample_bytree):\n",
        "    params = {\n",
        "        'max_depth': int(max_depth),\n",
        "        'learning_rate': learning_rate,\n",
        "        'gamma': gamma,\n",
        "        'min_child_weight': int(min_child_weight),\n",
        "        'subsample': subsample,\n",
        "        'colsample_bytree': colsample_bytree,\n",
        "        'objective': 'reg:squarederror',\n",
        "        'eval_metric': 'rmse',\n",
        "        'seed': seed,\n",
        "        'monotone_constraints': monotonic_constraints\n",
        "    }\n",
        "    kf = KFold(n_splits=5, shuffle=True, random_state=seed)\n",
        "    mse_scores = []\n",
        "    for train_index, test_index in kf.split(Input_norm):\n",
        "        X_train, y_train = Input_norm, Target_norm\n",
        "        dtrain = xgb.DMatrix(X_train, y_train)\n",
        "        cv_result = xgb.cv(params, dtrain, num_boost_round=100, early_stopping_rounds=5,\n",
        "                           nfold=5, metrics='rmse', seed=seed, stratified=False, shuffle=True)\n",
        "        mse_scores.append(cv_result['test-rmse-mean'].iloc[-1])\n",
        "    return -1.0 * sum(mse_scores) / len(mse_scores)\n",
        "\n",
        "# Set up Bayesian optimization\n",
        "pbounds = {\n",
        "    'max_depth': (2,6),\n",
        "    'learning_rate': (0.01, 0.3),\n",
        "    'gamma': (0, 1),\n",
        "    'min_child_weight': (1, 5),\n",
        "    'subsample': (0.5, 1),\n",
        "    'colsample_bytree': (0.5, 1),\n",
        "}\n",
        "optimizer1 = BayesianOptimization(f=xgb_cv, pbounds=pbounds, random_state=seed)\n",
        "\n",
        "# Run Bayesian optimization for 10 iterations\n",
        "optimizer1.maximize(init_points=5, n_iter=5)\n",
        "\n",
        "# Get the best hyperparameters\n",
        "best_params1 = optimizer1.max['params']\n",
        "best_params1['max_depth'] = int(best_params1['max_depth'])\n",
        "best_params1['learning_rate'] = best_params1['learning_rate']\n",
        "best_params1['gamma'] = best_params1['gamma']\n",
        "best_params1['min_child_weight'] = int(best_params1['min_child_weight'])\n",
        "best_params1['subsample'] = best_params1['subsample']\n",
        "best_params1['colsample_bytree'] = best_params1['colsample_bytree']\n",
        "\n",
        "# Create XGBoost model with the best hyperparameters\n",
        "xgb_model = xgb.XGBRegressor(monotone_constraints=(1,-1,-1,1,1,0), **best_params1, random_state=seed)\n",
        "\n",
        "model_with_constraints = xgb_model.fit(Input_norm,Target_norm)\n",
        "R2, MSE, MAE, MAPE = compute_score(model_with_constraints, Input_norm)"
      ]
    },
    {
      "cell_type": "code",
      "source": [
        "best_params1"
      ],
      "metadata": {
        "colab": {
          "base_uri": "https://localhost:8080/"
        },
        "id": "3HgLd6oLcO10",
        "outputId": "29086c45-e6fe-4ff9-f3b0-1d5cecc7a373"
      },
      "execution_count": null,
      "outputs": [
        {
          "output_type": "execute_result",
          "data": {
            "text/plain": [
              "{'colsample_bytree': 0.7807144402786754,\n",
              " 'gamma': 0.37537397610054724,\n",
              " 'learning_rate': 0.14888013919148696,\n",
              " 'max_depth': 4,\n",
              " 'min_child_weight': 1,\n",
              " 'subsample': 0.822258152747434}"
            ]
          },
          "metadata": {},
          "execution_count": 7
        }
      ]
    }
  ]
}